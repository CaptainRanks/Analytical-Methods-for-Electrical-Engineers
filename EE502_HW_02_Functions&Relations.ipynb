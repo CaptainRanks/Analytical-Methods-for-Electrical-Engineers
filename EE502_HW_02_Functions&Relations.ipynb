{
  "cells": [
    {
      "cell_type": "markdown",
      "metadata": {
        "ExecuteTime": {
          "end_time": "2019-09-24T16:05:23.746666Z",
          "start_time": "2019-09-24T16:05:23.741461Z"
        },
        "id": "cQyrxzHgdQJP"
      },
      "source": [
        "## EE 502 P: Analytical Methods for Electrical Engineering\n",
        "    \n",
        "# Homework 2: Sets, functions, and relations\n",
        "## Due October 19, 2023 by 11:59 PM\n",
        "### <span style=\"color: red\">David Petkov</span>\n",
        "\n",
        "Copyright &copy; 2023, University of Washington\n",
        "\n",
        "<hr>\n",
        "\n",
        "**Instructions**: Please use this notebook as a template. Answer all questions using well formatted Markdown with embedded LaTeX equations, executable Jupyter cells, or both. Submit your homework solutions as an `.ipynb` file via Canvas.\n",
        "\n",
        "<span style=\"color: red'\">\n",
        "Although you may discuss the homework with others, you must turn in your own, original work.\n",
        "</span>\n",
        "\n",
        "**Things to remember:**\n",
        "- Use complete sentences. Equations should appear in text as grammatical elements.\n",
        "- Comment your code.\n",
        "- Label your axes. Title your plots. Use legends where appropriate.\n",
        "- Before submitting a notebook, choose Kernel -> Restart and Run All to make sure your notebook runs when the cells are evaluated in order.\n",
        "\n",
        "Note : Late homework will be accepted up to one week after the due date and will be worth 50% of its full credit score."
      ]
    },
    {
      "cell_type": "code",
      "source": [
        "# Importing all the libraries to be used for the homework here for ease of use\n",
        "import math\n",
        "import random\n",
        "import numpy as np\n",
        "import sympy as sm\n",
        "from sympy import *\n",
        "init_printing(use_latex='mathjax')\n",
        "sm.init_printing(use_latex='mathjax')\n",
        "import matplotlib.pyplot as plt\n",
        "import matplotlib.patches as pch\n",
        "%matplotlib inline"
      ],
      "metadata": {
        "id": "EyhWjJjkMk4j"
      },
      "execution_count": null,
      "outputs": []
    },
    {
      "cell_type": "markdown",
      "metadata": {
        "id": "CUReWLrbdQJT"
      },
      "source": [
        "### 1. Set properties\n",
        "\n",
        "Given the follow definitions of sets\n",
        "\n",
        "$$A = \\{1,2,3\\}$$\n",
        "$$B = \\{3,4,5\\}$$\n",
        "$$C = \\{3,4,5,6,7\\}$$\n",
        "\n",
        "determine which of the following properties hold:\n",
        "\n",
        "$$0 \\in A$$\n",
        "\n",
        "$$4 \\in B \\cap C$$\n",
        "\n",
        "$$5 \\in C-B$$\n",
        "\n",
        "$$A \\subseteq B$$\n",
        "\n",
        "$$A \\subseteq C$$\n",
        "\n",
        "$$A \\cap B \\subseteq A$$\n",
        "\n",
        "$$B \\subseteq C$$\n",
        "\n",
        "If the property holds, say why. If it does not hold, give a counterexample showing the definition is not satisfied."
      ]
    },
    {
      "cell_type": "markdown",
      "source": [
        "## Explanations for Problem 1:\n",
        "\n",
        "$0 \\in A: \\ False, \\ 1, \\ 2, \\ 3 \\in A, \\ 0\\neq1, \\ 2, \\ or \\ 3$ \\\\\n",
        "\n",
        "$4 \\in B \\cap C: \\ True, \\ 4 \\in B \\ and \\ 4 \\in C $\n",
        "\n",
        "$5 \\in C-B: \\ False, \\ 5 \\in B \\ and \\ 5 \\in C$\n",
        "\n",
        "$A \\subseteq B: \\ False, \\ A = \\{1,2,3\\}, \\ B = \\{3,4,5\\}, \\ 1, \\ 2 \\notin B$\n",
        "\n",
        "$A \\subseteq C: \\ False, \\ A = \\{1,2,3\\}, \\ C = \\{3,4,5,6,7\\}, \\ 1, \\ 2 \\notin C$\n",
        "\n",
        "$A \\cap B \\subseteq A: \\ True, \\ A = \\{1,2,3\\}, \\ B = \\{3,4,5\\}, \\ 3 \\in A$\n",
        "\n",
        "$B \\subseteq C: \\ True, \\ B = \\{3,4,5\\}, \\ C = \\{3,4,5,6,7\\}, \\ 3, \\ 4, \\ 5 \\in C$"
      ],
      "metadata": {
        "id": "n94x8ZT8nSBk"
      }
    },
    {
      "cell_type": "code",
      "source": [
        "# Define the sets to be used for each property\n",
        "A = {1,2,3}\n",
        "B={3,4,5}\n",
        "C={3,4,5,6,7}\n",
        "0 in A # Is 0 an element of A"
      ],
      "metadata": {
        "id": "RVztIH5dMbkp",
        "colab": {
          "base_uri": "https://localhost:8080/"
        },
        "outputId": "876f571e-547e-4f7c-94fa-87b59a31420d"
      },
      "execution_count": null,
      "outputs": [
        {
          "output_type": "execute_result",
          "data": {
            "text/plain": [
              "False"
            ]
          },
          "metadata": {},
          "execution_count": 6
        }
      ]
    },
    {
      "cell_type": "code",
      "source": [
        "4 in B.intersection(C) # Is 4 an element of the intersection of B and C"
      ],
      "metadata": {
        "id": "HYKqQtPxMw49",
        "colab": {
          "base_uri": "https://localhost:8080/"
        },
        "outputId": "e695a293-be06-42eb-fbfa-fe048b549df2"
      },
      "execution_count": null,
      "outputs": [
        {
          "output_type": "execute_result",
          "data": {
            "text/plain": [
              "True"
            ]
          },
          "metadata": {},
          "execution_count": 11
        }
      ]
    },
    {
      "cell_type": "code",
      "source": [
        "5 in C.difference(B) # Is 5 an element of the difference of C and B"
      ],
      "metadata": {
        "id": "QGgYcI6uMw2T",
        "colab": {
          "base_uri": "https://localhost:8080/"
        },
        "outputId": "864feb77-beb4-4457-cee3-9039361c1c02"
      },
      "execution_count": null,
      "outputs": [
        {
          "output_type": "execute_result",
          "data": {
            "text/plain": [
              "False"
            ]
          },
          "metadata": {},
          "execution_count": 10
        }
      ]
    },
    {
      "cell_type": "code",
      "source": [
        "A.issubset(B) # Is A a subset of B"
      ],
      "metadata": {
        "id": "JYozrx5UMwzC",
        "colab": {
          "base_uri": "https://localhost:8080/"
        },
        "outputId": "6ae6df09-c6d8-42e5-adab-e7a90f0eb610"
      },
      "execution_count": null,
      "outputs": [
        {
          "output_type": "execute_result",
          "data": {
            "text/plain": [
              "False"
            ]
          },
          "metadata": {},
          "execution_count": 9
        }
      ]
    },
    {
      "cell_type": "code",
      "source": [
        "A.issubset(C) # Is A a subset of C"
      ],
      "metadata": {
        "id": "EB9GLofMMwwx",
        "colab": {
          "base_uri": "https://localhost:8080/"
        },
        "outputId": "c39ee6cf-f47a-4fce-f2b6-14791cf21611"
      },
      "execution_count": null,
      "outputs": [
        {
          "output_type": "execute_result",
          "data": {
            "text/plain": [
              "False"
            ]
          },
          "metadata": {},
          "execution_count": 8
        }
      ]
    },
    {
      "cell_type": "code",
      "source": [
        "A.intersection(B).issubset(A) # Is A intersected with B a subset of A"
      ],
      "metadata": {
        "id": "Ts70McqaMwq4",
        "colab": {
          "base_uri": "https://localhost:8080/"
        },
        "outputId": "c795833a-0d62-4c41-fd5b-648d1f1012c8"
      },
      "execution_count": null,
      "outputs": [
        {
          "output_type": "execute_result",
          "data": {
            "text/plain": [
              "True"
            ]
          },
          "metadata": {},
          "execution_count": 7
        }
      ]
    },
    {
      "cell_type": "code",
      "source": [
        "B.issubset(C) # Is B a subset of C"
      ],
      "metadata": {
        "id": "PMbEVdaEMwYn",
        "colab": {
          "base_uri": "https://localhost:8080/"
        },
        "outputId": "ae5d8347-1e5e-4f7c-9b25-0819adfdf239"
      },
      "execution_count": null,
      "outputs": [
        {
          "output_type": "execute_result",
          "data": {
            "text/plain": [
              "True"
            ]
          },
          "metadata": {},
          "execution_count": 12
        }
      ]
    },
    {
      "cell_type": "markdown",
      "metadata": {
        "id": "nXbPOilfdQJU"
      },
      "source": [
        "### 2. Set operations\n",
        "\n",
        "Let $A = \\{ 1,2,3,4,5 \\}$ and $B = \\{ 0,3,6 \\}$. Find\n",
        "\n",
        "a) $A \\cup B$\n",
        "\n",
        "b) $A \\cap B$\n",
        "\n",
        "c) $A - B$\n",
        "\n",
        "d) $B - A$\n",
        "\n",
        "Verify your results using Python sets."
      ]
    },
    {
      "cell_type": "code",
      "source": [
        "# Define the sets\n",
        "A={1,2,3,4,5}\n",
        "B={0,3,6}\n",
        "A.union(B) # Union of A and B"
      ],
      "metadata": {
        "id": "PSVNhJ4gNXSX",
        "colab": {
          "base_uri": "https://localhost:8080/",
          "height": 37
        },
        "outputId": "6a1439f5-1ade-4e65-d32f-2667f39b0112"
      },
      "execution_count": null,
      "outputs": [
        {
          "output_type": "execute_result",
          "data": {
            "text/plain": [
              "{0, 1, 2, 3, 4, 5, 6}"
            ],
            "text/latex": "$\\displaystyle \\left\\{0, 1, 2, 3, 4, 5, 6\\right\\}$"
          },
          "metadata": {},
          "execution_count": 15
        }
      ]
    },
    {
      "cell_type": "code",
      "source": [
        "A.intersection(B) # Intersection of A and B"
      ],
      "metadata": {
        "id": "0uQk0loXNfDi",
        "colab": {
          "base_uri": "https://localhost:8080/",
          "height": 37
        },
        "outputId": "71a4ce08-3324-464b-a68a-38bad16d13d5"
      },
      "execution_count": null,
      "outputs": [
        {
          "output_type": "execute_result",
          "data": {
            "text/plain": [
              "{3}"
            ],
            "text/latex": "$\\displaystyle \\left\\{3\\right\\}$"
          },
          "metadata": {},
          "execution_count": 17
        }
      ]
    },
    {
      "cell_type": "code",
      "source": [
        "A.difference(B) # Difference of A and B"
      ],
      "metadata": {
        "id": "YE1EvYo3Ne78",
        "colab": {
          "base_uri": "https://localhost:8080/",
          "height": 37
        },
        "outputId": "18e6c6a1-3e7a-4197-ec66-9f915c4a8431"
      },
      "execution_count": null,
      "outputs": [
        {
          "output_type": "execute_result",
          "data": {
            "text/plain": [
              "{1, 2, 4, 5}"
            ],
            "text/latex": "$\\displaystyle \\left\\{1, 2, 4, 5\\right\\}$"
          },
          "metadata": {},
          "execution_count": 18
        }
      ]
    },
    {
      "cell_type": "code",
      "source": [
        "B.difference(A) # Difference of B and A"
      ],
      "metadata": {
        "id": "BVXMTZiINeyf",
        "colab": {
          "base_uri": "https://localhost:8080/",
          "height": 37
        },
        "outputId": "3a9bfae4-77b7-4e5f-fd50-8f327d1f9130"
      },
      "execution_count": null,
      "outputs": [
        {
          "output_type": "execute_result",
          "data": {
            "text/plain": [
              "{0, 6}"
            ],
            "text/latex": "$\\displaystyle \\left\\{0, 6\\right\\}$"
          },
          "metadata": {},
          "execution_count": 19
        }
      ]
    },
    {
      "cell_type": "markdown",
      "metadata": {
        "id": "cfi9QnwjdQJV"
      },
      "source": [
        "### 3. Set Proofs\n",
        "\n",
        "Using the definitions of the set operations, the definition of the subset relation, and basic logic, show the following are true.\n",
        "\n",
        "a) $A - B \\subseteq A$\n",
        "\n",
        "b) $A \\cap (B-A) = \\varnothing$\n",
        "\n",
        "c) $A \\cup (B-A) = A \\cup B$\n",
        "\n",
        "Show examples using small sets in Python illustrating each property."
      ]
    },
    {
      "cell_type": "markdown",
      "source": [
        "## Proofs for Problem 3\n",
        "\n",
        "a)\n",
        "$$\n",
        "A-B = \\{x \\in A \\ | \\ x \\notin B\\}\\\\\n",
        "A = \\{x \\in A \\}\\\\ equivalent \\ to \\ A  \\subseteq A\\\\\n",
        "thus, \\ A - B \\subseteq A\n",
        "$$\n",
        "\n",
        "b)\n",
        "$$\n",
        "B-A = \\{x \\in B \\ | \\ x \\notin A\\}\\\\\n",
        "A = \\{x \\in A \\}\\\\\n",
        "equivalent \\ to \\ A\\cap B=\\varnothing\\\\\n",
        "thus, \\ A \\cap (B-A) = \\varnothing\n",
        "$$\n",
        "\n",
        "c)\n",
        "$$\n",
        "A = \\{x \\in A \\}\\\\\n",
        "B-A = \\{x \\in B \\ | \\ x \\notin A\\}\\\\\n",
        "A\\cup B = \\{x \\in A \\ or \\ x \\in B \\}\\\\\n",
        "equivalent \\ to \\ A\\cup B=A\\cup B\\\\\n",
        "thus, \\ A \\cup (B-A) = A \\cup B\n",
        "$$"
      ],
      "metadata": {
        "id": "C9n-ZmHKDZQ0"
      }
    },
    {
      "cell_type": "code",
      "source": [
        "#Define the sets\n",
        "A={1,2,3,4,5,6,7,8,9}\n",
        "B={1,3,5,7,9}\n",
        "A.difference(B).issubset(A) # Is the difference of A and B a subset of A"
      ],
      "metadata": {
        "id": "UassExgENsEx",
        "colab": {
          "base_uri": "https://localhost:8080/"
        },
        "outputId": "fa2bf4a5-7d66-40ca-a078-0e62cfc40495"
      },
      "execution_count": null,
      "outputs": [
        {
          "output_type": "execute_result",
          "data": {
            "text/plain": [
              "True"
            ]
          },
          "metadata": {},
          "execution_count": 22
        }
      ]
    },
    {
      "cell_type": "code",
      "source": [
        "A.intersection(B.difference(A)) # Is the intersection of A and the difference of B and A equal to an empty set"
      ],
      "metadata": {
        "id": "70UEeMvyNr6i",
        "colab": {
          "base_uri": "https://localhost:8080/",
          "height": 37
        },
        "outputId": "c0c15325-f13e-4cb3-95e9-0e174201732d"
      },
      "execution_count": null,
      "outputs": [
        {
          "output_type": "execute_result",
          "data": {
            "text/plain": [
              "set()"
            ],
            "text/latex": "$\\displaystyle \\left\\{\\right\\}$"
          },
          "metadata": {},
          "execution_count": 20
        }
      ]
    },
    {
      "cell_type": "code",
      "source": [
        "A.union(B.difference(A))==A.union(B) # Is the union of A and the difference of B and A equal the union of A and B"
      ],
      "metadata": {
        "id": "sEiiaEZINraD",
        "colab": {
          "base_uri": "https://localhost:8080/"
        },
        "outputId": "c01985bf-f3a1-4eeb-bf97-edc508a63c7f"
      },
      "execution_count": null,
      "outputs": [
        {
          "output_type": "execute_result",
          "data": {
            "text/plain": [
              "True"
            ]
          },
          "metadata": {},
          "execution_count": 21
        }
      ]
    },
    {
      "cell_type": "markdown",
      "metadata": {
        "ExecuteTime": {
          "end_time": "2019-09-30T20:21:35.986395Z",
          "start_time": "2019-09-30T20:21:35.964585Z"
        },
        "id": "z6Ck3kLddQJW"
      },
      "source": [
        "### 4. Cartesian Products\n",
        "\n",
        "a) If $A_i$ has $n_i$ elements, how many elements does $A_1 \\times A_2 \\times \\dots A_n$ have? Why?\n",
        "\n",
        "b) Give an example where the numbers of elements in $A_1 \\times A_2 \\times \\dots A_n$ is 1.\n",
        "\n",
        "c) Give examples of nonempty sets $A$ and $B$ where $A \\times B = B \\times A$."
      ]
    },
    {
      "cell_type": "markdown",
      "source": [
        "##Answers\n",
        "a) The amount of elements in the cartesian product will depend on the number of sets as well as the number of elements in each set.\n",
        "\n",
        "In general, if we have $n$ sets, the total amount of elements in the cartesian product will be the number of elements in each set multipled by the total number of sets. $(n_1 \\times n_2 \\times ... n_i)\\times n$ \\\\\n",
        "\n",
        "Example: Set $A = \\{a,b,c\\}$ and set $B = \\{e,f\\}$. Per the equation above, it should have $3 \\times 2 \\times 2 =12$ elements. \\\\\n",
        "\n",
        "Result: $A \\times B= \\{(a,e),(a,f),(b,e),(b,f),(c,e),(c,f)\\}$.\n",
        "\n",
        "\\\\\n",
        "\n",
        "b) The number of elements in $A_i$ would equal 1 only if $n_i=1$. \\\\\n",
        "\n",
        "Example: Set $A = \\{a\\}$ and no other set would exist because the cartesian product between a set and an empty set equals an empty set. \\\\\n",
        "\n",
        "\\\\\n",
        "\n",
        "c)  $A \\times B = B \\times A$ only if $A=B$. This is because if you reverse the order of the cartesian product of sets $A$ and $B$, you reverse the order of the output. The only way to ensure the cartesian product is equal commutatively is to ensure $A=B$, thus both sets have the same values and orders"
      ],
      "metadata": {
        "id": "otp_uTkvQ08S"
      }
    },
    {
      "cell_type": "code",
      "source": [
        "# Code below is an example of problem 4a\n",
        "import itertools # The itertools library contains the product() function which calculates the cartesian product between sets\n",
        "\n",
        "# Define set of 3 tuples with 3 elements each\n",
        "list1 = [\n",
        "   [1,2,3],\n",
        "   [1,2,3],\n",
        "   [1,2,3]\n",
        "]\n",
        "\n",
        "# Define set of 4 tuples with a different number of elements in each\n",
        "list2 = [\n",
        "   [1,2,3,4],\n",
        "   [1,2],\n",
        "   [1,2,3],\n",
        "   [1,2,3,4]\n",
        "]\n",
        "# Set accumulator to 0\n",
        "acc1 = 0\n",
        "acc2 = 0\n",
        "\n",
        "# Create the cartesian product for list1 and count the total number of elements\n",
        "for element1 in itertools.product(*list1):\n",
        "    #print(element1)\n",
        "    acc1 = acc1 + len(element1)\n",
        "\n",
        "# Create the cartesian product for list2 and count the total number of elements\n",
        "for element2 in itertools.product(*list2):\n",
        "    #print(element4)\n",
        "    acc2 = acc2 + len(element2)\n",
        "\n",
        "print(\"Total elements when you have 3 tuples with 3 elements each :\", acc1)\n",
        "print(\"Total elements when (4*2*3*4)*4 :\", acc2)"
      ],
      "metadata": {
        "colab": {
          "base_uri": "https://localhost:8080/"
        },
        "id": "zoWa8BeXCT4s",
        "outputId": "3d1b4d89-850f-45d1-9c18-e2486d3f4fcf"
      },
      "execution_count": null,
      "outputs": [
        {
          "output_type": "stream",
          "name": "stdout",
          "text": [
            "Total elements when you have 3 tuples with 3 elements each : 81\n",
            "Total elements when (4*2*3*4)*4 : 384\n"
          ]
        }
      ]
    },
    {
      "cell_type": "code",
      "source": [
        "# The code below is for proving the statement in problem 4c\n",
        "\n",
        "# Define sets with same tuples but in reverse order for list3 and list 4, but list5 = list3\n",
        "list3 = [\n",
        "   [1,2],\n",
        "   [2,1]\n",
        "]\n",
        "\n",
        "list4 = [\n",
        "   [2,1],\n",
        "   [1,2]\n",
        "]\n",
        "\n",
        "list5 = [\n",
        "   [1,2],\n",
        "   [2,1]\n",
        "]\n",
        "\n",
        "# Calculate each cartesian product\n",
        "for element3 in itertools.product(*list3):\n",
        "    element3\n",
        "\n",
        "for element4 in itertools.product(*list4):\n",
        "    element4\n",
        "\n",
        "for element5 in itertools.product(*list5):\n",
        "    element5\n",
        "\n",
        "print(\"Does A x B = B x A if A is not equal to B? :\", element3 == element4)\n",
        "print(\"Does A x B = B x A if A is equal to B? :\", element3 == element5)"
      ],
      "metadata": {
        "colab": {
          "base_uri": "https://localhost:8080/"
        },
        "id": "8Ibw1WLjWoD7",
        "outputId": "a5d585e5-33d4-409c-fc11-eec6ea242e20"
      },
      "execution_count": null,
      "outputs": [
        {
          "output_type": "stream",
          "name": "stdout",
          "text": [
            "Does A x B = B x A if A is not equal to B? : False\n",
            "Does A x B = B x A if A is equal to B? : True\n"
          ]
        }
      ]
    },
    {
      "cell_type": "markdown",
      "metadata": {
        "id": "ial2ZwGddQJX"
      },
      "source": [
        "### 5. Function Properties\n",
        "\n",
        "Plot each of the following functions from $\\mathbb{Z}$ to $\\mathbb{Z}$ over a representative subdomain (use points and not a line since the domain is $\\mathbb{Z}$).\n",
        "What is the range of each function? State which of them are injective, which are surjective, and which are bijective.\n",
        "For functions for which a given property holds, explain why. For functions for which the given property does not hold, give a counterexample.\n",
        "\n",
        "a) $f(n) = n-1$\n",
        "\n",
        "b) $f(n) = n^3$\n",
        "\n",
        "c) $f(n) = n^2 + 1$"
      ]
    },
    {
      "cell_type": "markdown",
      "source": [
        "##Answers\n",
        "a) $f(n) = n-1$ \\\\\n",
        "\n",
        "Range: $\\mathbb{Z}$ \\\\\n",
        "Injection: True, if $\\ a \\neq b, \\ f(a) \\neq f(b), $ but if $ a = b, \\ f(a)= f(b) $ \\\\\n",
        "Surjection: True,  for $ \\ f(n) \\in \\mathbb{Z},$ there is $\\ n \\in \\mathbb{Z} $ such that $ f(x)=y$ \\\\\n",
        "Bijection: True, function is both an injection and surjection\n",
        "\n",
        "\\\\\n",
        "\n",
        "b) $f(n) = n^3$ \\\\\n",
        "Range:  $ \\mathbb{Z}$ \\\\\n",
        "Injection: True, if $\\ a \\neq b, \\ f(a) \\neq f(b), $ but if $ a = b, \\ f(a)= f(b) $ \\\\\n",
        "Surjection: False, not every $  f(n) \\in \\mathbb{Z},$ has an $ n \\in \\mathbb{Z} $ such that $ f(x)=y$ \\\\\n",
        "Bijection: False, function is an injection but not a surjection\n",
        "\n",
        "\\\\\n",
        "\n",
        "c) $f(n) = n^2 + 1$ \\\\\n",
        "Range: $\\mathbb{Z}^{++}$  \\\\\n",
        "Injection: False, it's possible for$\\ a \\neq b,$ but $ f(a)= f(b) $ \\\\\n",
        "Surjection: False,  if $ \\ f(n) \\in \\mathbb{Z}$ and $f(n) < 1,$ there is no $\\ n \\in \\mathbb{Z} $ such that $ f(x)=y$ \\\\\n",
        "Bijection: False, function is neither an injection or a surjection"
      ],
      "metadata": {
        "id": "MNMYbmwKucof"
      }
    },
    {
      "cell_type": "code",
      "source": [
        "# Define x axis so we only plot on integers\n",
        "x = [-10,-9,-8,-7,-6,-5,-4,-3,-2,-1,0,1,2,3,4,5,6,7,8,9,10]\n",
        "\n",
        "# Create empty lists to store outputs for each function to\n",
        "A=[]\n",
        "B=[]\n",
        "C=[]\n",
        "\n",
        "# Below, we take every value in the list x and plug it into the calculation for each equation\n",
        "# Problem 5a\n",
        "for n in x:\n",
        "  a=n-1\n",
        "  a=A.append(a) # Append list with output\n",
        "\n",
        "# Problem 5b\n",
        "for n in x:\n",
        "  b=n**3\n",
        "  b=B.append(b) # Append list with output\n",
        "\n",
        "# Problem 5c\n",
        "for n in x:\n",
        "  c=(n**2)+1\n",
        "  c=C.append(c) # Append list with output\n",
        "\n",
        "# Since we are plotting from Z to Z with points, it is best to use a scatter plot\n",
        "fig,ax = plt.subplots(1,3, figsize=(15,5))\n",
        "ax[0].scatter(x, A); ax[0].set_title(\"Plot of f(x) = n - 1\");ax[0].set_xlabel('x axis');ax[0].set_ylabel('y axis');ax[0].grid(alpha =1, linestyle ='--');\n",
        "ax[1].scatter(x, B); ax[1].set_title(\"Plot of f(x) = n^3\");ax[1].set_xlabel('x axis');ax[1].set_ylabel('y axis');ax[1].grid(alpha =1, linestyle ='--');\n",
        "ax[2].scatter(x, C); ax[2].set_title(\"Plot of f(x) = n^2 + 1\");ax[2].set_xlabel('x axis');ax[2].set_ylabel('y axis');ax[2].grid(alpha =1, linestyle ='--');\n",
        "\n",
        "fig.tight_layout() # Organize plots so they don't overlap\n",
        "plt.show()"
      ],
      "metadata": {
        "colab": {
          "base_uri": "https://localhost:8080/",
          "height": 507
        },
        "id": "LHZ_g8PestNi",
        "outputId": "5327dae7-17c1-4061-80e4-6c459411fc3e"
      },
      "execution_count": null,
      "outputs": [
        {
          "output_type": "display_data",
          "data": {
            "text/plain": [
              "<Figure size 1500x500 with 3 Axes>"
            ],
            "image/png": "[encoded data removed]"
          },
          "metadata": {}
        }
      ]
    },
    {
      "cell_type": "markdown",
      "metadata": {
        "id": "K4BNAgbWdQJY"
      },
      "source": [
        "### 6. Composition\n",
        "\n",
        "a) Suppose that $f(x) = x^2 + 1$ and $g(x) = e^x$ are functions from $\\mathbb{R}$ into $\\mathbb{R}$. Find $f \\circ g$ and $g \\circ f$ and plot them in Python (on the same axis to compare).\n",
        "\n",
        "b) Suppose $f(x) = a x + b$ and $g(x) = c x + d$ are functions from $\\mathbb{R}$ into $\\mathbb{R}$. Find constants $a$, $b$, $c$ and $d$ such that $f \\circ g = g \\circ f$."
      ]
    },
    {
      "cell_type": "markdown",
      "source": [
        "## a) Results of composite functions\n",
        "$f \\circ g = (e^x)^2 + 1$ \\\\\n",
        "$g \\circ f = e^{x^2+1}$"
      ],
      "metadata": {
        "id": "WsO6lxqVUS6t"
      }
    },
    {
      "cell_type": "code",
      "source": [
        "x = np.arange(-1.5, 1.5, 0.01) # Define the domain, need a small domain since both functions rise very quickly.\n",
        "y = np.exp(x)**2+1 # Define f o g\n",
        "z=(np.exp(x**2+1)) # Define g o f\n",
        "\n",
        "plt.title(\"Composition Plots\") # Add title\n",
        "plt.xlabel(\"Values of x\") # Add axis labels\n",
        "plt.ylabel(\"Values of y\")\n",
        "plt.plot(x, y, \"-r\", label=\"f o g\") # Plot f o g in red\n",
        "plt.plot(x, z, \"-g\", label=\"g o f\") # Plot g o f in green\n",
        "plt.legend(loc=\"best\") # Put the legend in the 'best' spot\n",
        "plt.show()"
      ],
      "metadata": {
        "id": "sghCpOfdfkM9",
        "colab": {
          "base_uri": "https://localhost:8080/",
          "height": 472
        },
        "outputId": "a43b8e6a-dd93-4843-b9a3-7b90f9bc0c1f"
      },
      "execution_count": null,
      "outputs": [
        {
          "output_type": "display_data",
          "data": {
            "text/plain": [
              "<Figure size 640x480 with 1 Axes>"
            ],
            "image/png": "[encoded data removed]"
          },
          "metadata": {}
        }
      ]
    },
    {
      "cell_type": "markdown",
      "source": [
        "## b) Results of composite functions\n",
        "$$f \\circ g = acx + ad+b$$ \\\\\n",
        "$$g \\circ f = acx + cb+d$$ \\\\\n",
        "$$f \\circ g = g \\circ f:$$ \\\\\n",
        "$$ad+b=bc+d$$ \\\\\n",
        "$$ a = \\frac{bc+d-b}{d}$$"
      ],
      "metadata": {
        "id": "YX4caV9xj46h"
      }
    },
    {
      "cell_type": "code",
      "source": [
        "# Use python to solve for a, b, c, and d\n",
        "a, b, c, d = symbols(\"a b c d\")\n",
        "result = solve([\n",
        "    a*d+b-d-c*b\n",
        "],[a,b,c,d])\n",
        "result"
      ],
      "metadata": {
        "colab": {
          "base_uri": "https://localhost:8080/",
          "height": 58
        },
        "id": "H07AhqLwhISi",
        "outputId": "d2a97c49-555b-4908-ad14-476165577546"
      },
      "execution_count": null,
      "outputs": [
        {
          "output_type": "execute_result",
          "data": {
            "text/plain": [
              "⎡⎛b⋅c - b + d         ⎞⎤\n",
              "⎢⎜───────────, b, c, d⎟⎥\n",
              "⎣⎝     d              ⎠⎦"
            ],
            "text/latex": "$\\displaystyle \\left[ \\left( \\frac{b c - b + d}{d}, \\  b, \\  c, \\  d\\right)\\right]$"
          },
          "metadata": {},
          "execution_count": 82
        }
      ]
    },
    {
      "cell_type": "code",
      "source": [
        "# From above result, we realize that as long as as a=((b*c-b+d)/d), b, c, and d can equal any number\n",
        "b=random.randint(0,100) # Generate random integer\n",
        "c=random.randint(0,100)\n",
        "d=random.randint(0,100)\n",
        "a=(b*c-b+d)/d\n",
        "\n",
        "result = a*d+b==c*b+d # Does f o g = g o f?\n",
        "print(\"a=\",a,\", b=\", b, \"c=\",c,\", d=\", d)\n",
        "print(\"Does f o g = g o f? :\", result) # Print output"
      ],
      "metadata": {
        "colab": {
          "base_uri": "https://localhost:8080/"
        },
        "id": "9G8Ue64Wi7t1",
        "outputId": "c20316b9-3f86-408e-a699-0692e86718bf"
      },
      "execution_count": null,
      "outputs": [
        {
          "output_type": "stream",
          "name": "stdout",
          "text": [
            "a= 209.1951219512195 , b= 88 c= 98 , d= 41\n",
            "Does f o g = g o f? : True\n"
          ]
        }
      ]
    },
    {
      "cell_type": "markdown",
      "metadata": {
        "id": "F17Wngr5dQJY"
      },
      "source": [
        "### 7. Relations\n",
        "\n",
        "Define the relation $R$ on $\\mathbb{N} \\times \\mathbb{N}$ saying that $x \\; R\\; y$ if and only if the binary representations of $x$ and $y$ have the same number of ones. For example, $15 \\; R \\; 23$ since $15$ in binary is $1111$ and $23$ in binary is $10111$, which both have four ones.\n",
        "\n",
        "Show that $R$ is an equivalence relation.\n"
      ]
    },
    {
      "cell_type": "markdown",
      "source": [
        "The relation must be reflexive, symmetric, and transitive.\n",
        "\n",
        "Reflexivity: For $x$ in $\\mathbb{N}$, $xRx$ since each number's binary representation has the same count of ones as itself.\n",
        "\n",
        "Symmetry: For $x$ and $y$ in $\\mathbb{N}$, if $xRy$ then $yRx$. If $x$ related to $y$ have the same amount of ones, then $y$ related to $x$ will also have the same numbers of ones.\n",
        "\n",
        "Transitivity: For $x$, $y$, and $z$ in $\\mathbb{N}$, if $xRy$ and $yRz$, then $xRz$. If $x$ has the same amount of ones as $y$, and $y$ with $z$, then it can be said that $x$ and $z$ have the same amount of ones."
      ],
      "metadata": {
        "id": "DzdXumwLzG8w"
      }
    },
    {
      "cell_type": "code",
      "source": [
        "# Create definition for the relation\n",
        "def binary_relation(x,y):\n",
        "  # Convert the decimal number to binary, and the binary to a string variable\n",
        "  X=str(bin(x))\n",
        "  Y=str(bin(y))\n",
        "  return X.count('1') == Y.count('1') # Count the 1s in each binary number\n",
        "\n",
        "x=15\n",
        "y=23\n",
        "z=24\n",
        "# Print output of relation\n",
        "print(\"Does 15 have same amount of 1s as 23 in binary? :\", binary_relation(x,y))\n",
        "print(\"Does 15 have same amount of 1s as 24 in binary? :\", binary_relation(x,z))"
      ],
      "metadata": {
        "colab": {
          "base_uri": "https://localhost:8080/"
        },
        "id": "YAsjH4AVQrcM",
        "outputId": "d304c3f8-acb2-4b01-ccbd-fa1c113af7c4"
      },
      "execution_count": null,
      "outputs": [
        {
          "output_type": "stream",
          "name": "stdout",
          "text": [
            "Does 15 have same amount of 1s as 23 in binary? : True\n",
            "Does 15 have same amount of 1s as 24 in binary? : False\n"
          ]
        }
      ]
    },
    {
      "cell_type": "markdown",
      "metadata": {
        "id": "dA6ub9GjdQJZ"
      },
      "source": [
        "### 8. Sets, Functions, and Relations in Python\n",
        "\n",
        "Express each of the following objects in Python.\n",
        "\n",
        "a) The set of $P$ prime numbers less than 100.\n",
        "\n",
        "b) The function $f: \\{1,2,3,4,5,6\\} \\rightarrow \\{0,1\\}$ in which $f(x) = 0$ if $x$ is even and $f(x)=1$ if $x$ is odd, expressed as a dictionary."
      ]
    },
    {
      "cell_type": "code",
      "source": [
        "#Define the function for 8a\n",
        "def primes(n):\n",
        "  output = [] # Create empty list to append values to\n",
        "  for i in range(2,n+1): # For any number between 2 and n\n",
        "    prime = True # Set their initial prime value to true\n",
        "    for j in range(2,i): # For any number between 2 and i\n",
        "      if (i %j ==0): # Check if i can be divided by any number j and return an integer\n",
        "        prime=False # If true, the number is not prime\n",
        "    if prime: # If number is prime\n",
        "      output.append(i) # Append the list with its value\n",
        "\n",
        "  return output # Return list with prime numbers\n",
        "\n",
        "print(\"Prime numbers between 0 and 100:\",primes(100))"
      ],
      "metadata": {
        "colab": {
          "base_uri": "https://localhost:8080/"
        },
        "id": "Sm0Ve3ksOSmV",
        "outputId": "8670c074-1657-441b-c48e-5dcfca974055"
      },
      "execution_count": null,
      "outputs": [
        {
          "output_type": "stream",
          "name": "stdout",
          "text": [
            "Prime numbers between 0 and 100: [2, 3, 5, 7, 11, 13, 17, 19, 23, 29, 31, 37, 41, 43, 47, 53, 59, 61, 67, 71, 73, 79, 83, 89, 97]\n"
          ]
        }
      ]
    },
    {
      "cell_type": "code",
      "source": [
        "#Program for problem 8b\n",
        "\n",
        "# Create empty lists\n",
        "odds=[]\n",
        "evens=[]\n",
        "# Define set A\n",
        "A=[1,2,3,4,5,6]\n",
        "for i in A: # For element i in set A\n",
        "  if i%2 ==0: # If i divided by 2 has no remainder\n",
        "    evens.append(i) # Add number to list for even numbers\n",
        "  else:\n",
        "    odds.append(i) # Else, add the number to list for odd numbers\n",
        "\n",
        "nums={\"odd:\": odds, \"Even:\":evens} # Add the lists to the dictionary as values to the keys for odd and even numbers\n",
        "nums"
      ],
      "metadata": {
        "colab": {
          "base_uri": "https://localhost:8080/"
        },
        "id": "WqgqfooVOScx",
        "outputId": "0075c91c-1b02-4fd1-d046-3fe4dcf7e765"
      },
      "execution_count": null,
      "outputs": [
        {
          "output_type": "execute_result",
          "data": {
            "text/plain": [
              "{'odd:': [1, 3, 5], 'Even:': [2, 4, 6]}"
            ]
          },
          "metadata": {},
          "execution_count": 95
        }
      ]
    }
  ],
  "metadata": {
    "kernelspec": {
      "display_name": "Python 3",
      "language": "python",
      "name": "python3"
    },
    "language_info": {
      "codemirror_mode": {
        "name": "ipython",
        "version": 3
      },
      "file_extension": ".py",
      "mimetype": "text/x-python",
      "name": "python",
      "nbconvert_exporter": "python",
      "pygments_lexer": "ipython3",
      "version": "3.8.5"
    },
    "colab": {
      "provenance": []
    }
  },
  "nbformat": 4,
  "nbformat_minor": 0
}