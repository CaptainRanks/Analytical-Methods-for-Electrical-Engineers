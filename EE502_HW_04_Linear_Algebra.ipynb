{
  "cells": [
    {
      "cell_type": "markdown",
      "metadata": {
        "ExecuteTime": {
          "end_time": "2019-09-24T16:05:23.746666Z",
          "start_time": "2019-09-24T16:05:23.741461Z"
        },
        "id": "Oz6OgZEDe3Kp"
      },
      "source": [
        "## EE 502 P: Analytical Methods for Electrical Engineering\n",
        "    \n",
        "# Homework 4: Linear Algebra\n",
        "## Due November 5, 2023 by 11:59 PM\n",
        "### <span style=\"color: red\">David Petkov</span>\n",
        "\n",
        "Copyright &copy; 2023, University of Washington\n",
        "\n",
        "<hr>\n",
        "\n",
        "**Instructions**: Please use this notebook as a template. Answer all questions using well formatted Markdown with embedded LaTeX equations, executable Jupyter cells, or both. Submit your homework solutions as an `.ipynb` file via Canvas.\n",
        "\n",
        "<span style=\"color: red'\">\n",
        "Although you may discuss the homework with others, you must turn in your own, original work.\n",
        "</span>\n",
        "\n",
        "**Things to remember:**\n",
        "- Use complete sentences. Equations should appear in text as grammatical elements.\n",
        "- Comment your code.\n",
        "- Label your axes. Title your plots. Use legends where appropriate.\n",
        "- Before submitting a notebook, choose Kernel -> Restart and Run All to make sure your notebook runs when the cells are evaluated in order.\n"
      ]
    },
    {
      "cell_type": "code",
      "source": [
        "import math\n",
        "import scipy\n",
        "import scipy.ndimage\n",
        "from scipy.linalg import expm\n",
        "import numpy as np\n",
        "import sympy as sm\n",
        "from numpy.linalg import matrix_rank\n",
        "sm.init_printing(use_latex='mathjax')\n",
        "import matplotlib.pyplot as plt\n",
        "import matplotlib.patches as pch\n",
        "%matplotlib inline"
      ],
      "metadata": {
        "id": "Coti8MEtomgW"
      },
      "execution_count": null,
      "outputs": []
    },
    {
      "cell_type": "markdown",
      "metadata": {
        "ExecuteTime": {
          "end_time": "2019-10-08T16:48:02.889303Z",
          "start_time": "2019-10-08T16:48:02.885366Z"
        },
        "id": "UGJVzugVe3Ku"
      },
      "source": [
        "### 1. Linear independence\n",
        "---\n",
        "\n",
        "Which of the following sets of vectors are linearly independent? Why?\n",
        "\n",
        "a) $\\left (\\begin{array}{c}\n",
        "1 \\\\\n",
        "2 \\\\\n",
        "3 \\\\\n",
        "4\\end{array}\\right )$ and\n",
        "$\\left (\\begin{array}{c}\n",
        "5 \\\\\n",
        "6 \\\\\n",
        "7 \\\\\n",
        "8\\end{array}\\right )$\n",
        "\n",
        "b) $\\left (\\begin{array}{c}\n",
        "1 \\\\\n",
        "1 \\\\\n",
        "0 \\\\\n",
        "0\n",
        "\\end{array}\\right )$,\n",
        "$\\left (\\begin{array}{c}\n",
        "0 \\\\\n",
        "0 \\\\\n",
        "1 \\\\\n",
        "1\n",
        "\\end{array}\\right )$,\n",
        "$\\left (\\begin{array}{c}\n",
        "0 \\\\\n",
        "1 \\\\\n",
        "1 \\\\\n",
        "0\n",
        "\\end{array}\\right )$ and\n",
        "$\\left (\\begin{array}{c}\n",
        "1 \\\\\n",
        "0 \\\\\n",
        "0 \\\\\n",
        "1\n",
        "\\end{array}\\right )$\n",
        "\n",
        "c)\n",
        "$\\left (\\begin{array}{c}\n",
        "1 \\\\\n",
        "1 \\\\\n",
        "0 \\\\\n",
        "0\n",
        "\\end{array}\\right )$,\n",
        "$\\left (\\begin{array}{c}\n",
        "0 \\\\\n",
        "0 \\\\\n",
        "1 \\\\\n",
        "1\n",
        "\\end{array}\\right )$,\n",
        "$\\left (\\begin{array}{c}\n",
        "0 \\\\\n",
        "1 \\\\\n",
        "1 \\\\\n",
        "0\n",
        "\\end{array}\\right )$ and\n",
        "$\\left (\\begin{array}{c}\n",
        "0 \\\\\n",
        "1 \\\\\n",
        "0 \\\\\n",
        "1\n",
        "\\end{array}\\right )$"
      ]
    },
    {
      "cell_type": "markdown",
      "source": [
        "## Answer to Problem 1\n",
        "\n",
        "A matrix is linearly independent if it has full rank, meaning no vector from a set can be represented as a combination of the remaining vectors. I will use the function matrix_rank() from numpy to find the rank of each matrix above to determine linear indpendence."
      ],
      "metadata": {
        "id": "Jf3d0dhlIhnS"
      }
    },
    {
      "cell_type": "code",
      "source": [
        "# Using python to find linear independence of matrices\n",
        "A = np.matrix([\n",
        "    [1,5],\n",
        "    [2,6],\n",
        "    [3,7],\n",
        "    [4,8]\n",
        "])\n",
        "if matrix_rank(A) == 2:\n",
        "  print(\"Matrix A has full rank and is linearly independent\")\n",
        "else:\n",
        "  print(\"Matrix A is not linearly independent since it does not have full rank\")"
      ],
      "metadata": {
        "colab": {
          "base_uri": "https://localhost:8080/"
        },
        "id": "2WEwJKo_CVdC",
        "outputId": "206a75c3-c7de-4304-deb5-e9be47aec5ce"
      },
      "execution_count": null,
      "outputs": [
        {
          "output_type": "stream",
          "name": "stdout",
          "text": [
            "Matrix A has full rank and is linearly independent\n"
          ]
        }
      ]
    },
    {
      "cell_type": "code",
      "source": [
        "B = np.matrix([\n",
        "    [1,0,0,1],\n",
        "    [1,0,1,0],\n",
        "    [0,1,1,0],\n",
        "    [0,1,0,1]\n",
        "])\n",
        "if matrix_rank(B) == 4:\n",
        "  print(\"Matrix B has full rank and is linearly independent\")\n",
        "else:\n",
        "  print(\"Matrix B is not linearly independent because it does not have full rank\")"
      ],
      "metadata": {
        "colab": {
          "base_uri": "https://localhost:8080/"
        },
        "id": "OEVzI0o8FHDU",
        "outputId": "dc1b7312-d89f-4cc1-97e6-687b130d0604"
      },
      "execution_count": null,
      "outputs": [
        {
          "output_type": "stream",
          "name": "stdout",
          "text": [
            "Matrix B is not linearly independent because it does not have full rank\n"
          ]
        }
      ]
    },
    {
      "cell_type": "code",
      "source": [
        "C = np.matrix([\n",
        "    [1,0,0,0],\n",
        "    [1,0,1,1],\n",
        "    [0,1,1,0],\n",
        "    [0,1,0,1]\n",
        "])\n",
        "if matrix_rank(C) == 4:\n",
        "  print(\"Matrix C has full rank and is linearly independent\")\n",
        "else:\n",
        "  print(\"Matrix C is not linearly independent since it does not have full rank\")"
      ],
      "metadata": {
        "colab": {
          "base_uri": "https://localhost:8080/"
        },
        "id": "7DRlHWMWHBLz",
        "outputId": "27b7df69-557f-476e-82d6-86740f687dcb"
      },
      "execution_count": null,
      "outputs": [
        {
          "output_type": "stream",
          "name": "stdout",
          "text": [
            "Matrix C has full rank and is linearly independent\n"
          ]
        }
      ]
    },
    {
      "cell_type": "markdown",
      "metadata": {
        "id": "_ac7Uixse3Kv"
      },
      "source": [
        "### 2. Orthogonality\n",
        "---\n",
        "\n",
        "a) Find two orthogonal vectors that are also orthogonal to the vector\n",
        "$$v = \\left (\n",
        "\\begin{array}{c}\n",
        "1 \\\\\n",
        "-1 \\\\\n",
        "3 \\\\\n",
        "\\end{array}\n",
        "\\right ).$$\n",
        "\n",
        "b) Argue that the resulting set of three vectors form a basis for for $\\mathbb{R}^3$.\n",
        "\n",
        "c) Express the vector $$x = \\left (\n",
        "\\begin{array}{c}\n",
        "1 \\\\\n",
        "2 \\\\\n",
        "3\n",
        "\\end{array}\n",
        "\\right)$$ as a linear combination of your three vectors."
      ]
    },
    {
      "cell_type": "markdown",
      "source": [
        "## Answer to Problem 2\n",
        "**Def:** Two vectors $u$ and $v$ are **orthogonal** if $u^Tv = 0$.\n",
        "\n",
        "a) Two vectors are orthogonal if their dot product is equal to 0. Code is below for two orthogonal vectors.\n",
        "\n",
        "b) A set of linearly independent $n$ vectors $v_1,...,v_k$ can have at most $n$ elements, so $k \\leq n$. Additionally, they form the basis $\\mathbb{R}^3$ if their scalars $ a_1,...a_n$ need to be equal to $0$ to satisfy:\n",
        "\n",
        "$$\n",
        "a_1 v_1+a_2 v_2+...a_n v_n=0\n",
        "$$\n",
        "\n",
        "In the case for problem $2a$, the three vectors do form the basis for $\\mathbb{R}^3$ because the matrix is linearly independent with full rank as shown in the code below.\n",
        "\n",
        "c) If $Ax=b$, then $A^{-1}b=x$. Also assume vector $(1,2,3)$ from above is $b$ for this definition. The solution is in the code below.\n"
      ],
      "metadata": {
        "id": "af-YVrrHMNwk"
      }
    },
    {
      "cell_type": "code",
      "source": [
        "# Problem 2a\n",
        "# Define vector v as above\n",
        "v = np.array([1,-1,3])\n",
        "\n",
        "# Define orthogonal vectors\n",
        "u1 = np.array([2,-1,-1])\n",
        "u2 = np.array([3,0,-1])\n",
        "\n",
        "# Show that dot product between defined vectors equals 0\n",
        "print(\"Vector v times (2,-1,-1) will equal 0 if orthogonal:\",np.dot(v,u1))\n",
        "print(\"Vector v times (3,0,-1) will equal 0 if orthogonal:\",np.dot(v,u2))"
      ],
      "metadata": {
        "colab": {
          "base_uri": "https://localhost:8080/"
        },
        "id": "Aeh2a9jDJpnx",
        "outputId": "0969209f-a6cd-49a3-9cf8-caa38aec9eec"
      },
      "execution_count": null,
      "outputs": [
        {
          "output_type": "stream",
          "name": "stdout",
          "text": [
            "Vector v times (2,-1,-1) will equal 0 if orthogonal: 0\n",
            "Vector v times (3,0,-1) will equal 0 if orthogonal: 0\n"
          ]
        }
      ]
    },
    {
      "cell_type": "code",
      "source": [
        "# Proof of linear independence for problem 2b\n",
        "B = np.matrix([\n",
        "    [1,2,3],\n",
        "    [-1,-1,0],\n",
        "    [3,-1,-1]\n",
        "])\n",
        "if matrix_rank(B) == 3:\n",
        "  print(\"Matrix B has full rank and is linearly independent\")\n",
        "else:\n",
        "  print(\"Matrix B is not linearly independent since it does not have full rank\")"
      ],
      "metadata": {
        "colab": {
          "base_uri": "https://localhost:8080/"
        },
        "id": "8-qDvlAGnBEa",
        "outputId": "bcc2cd81-6580-4df3-c26c-9854b850df2d"
      },
      "execution_count": null,
      "outputs": [
        {
          "output_type": "stream",
          "name": "stdout",
          "text": [
            "Matrix B has full rank and is linearly independent\n"
          ]
        }
      ]
    },
    {
      "cell_type": "code",
      "source": [
        "# Code for Problem 2c\n",
        "\n",
        "# Generate a linearly independent matrix\n",
        "A = np.matrix([\n",
        "    [1,2,3],\n",
        "    [-1,-1,0],\n",
        "    [3,-1,-1]\n",
        "])\n",
        "b = np.array([1,2,3])\n",
        "x=solve(A,b) # Solve for x through A^-1 * b\n",
        "x"
      ],
      "metadata": {
        "colab": {
          "base_uri": "https://localhost:8080/"
        },
        "id": "dRyvm59oz7E1",
        "outputId": "2a93ab1c-d351-4627-9c1a-882edec0ded9"
      },
      "execution_count": null,
      "outputs": [
        {
          "output_type": "execute_result",
          "data": {
            "text/plain": [
              "array([ 0.72727273, -2.72727273,  1.90909091])"
            ]
          },
          "metadata": {},
          "execution_count": 26
        }
      ]
    },
    {
      "cell_type": "markdown",
      "metadata": {
        "id": "OSdllIPpe3Kw"
      },
      "source": [
        "### 3. Inverses\n",
        "---\n",
        "Find the inverse of each of the following matrices, or explain why no inverse exists.\n",
        "\n",
        "$\n",
        "A = \\begin{pmatrix}\n",
        "0 & 1 & 1 \\\\\n",
        "1 & 0 & 1 \\\\\n",
        "1 & 1 & 0\n",
        "\\end{pmatrix}\n",
        "$\n",
        "\n",
        "$ B = \\begin{pmatrix}\n",
        "0 & 1 & 1 \\\\\n",
        "1 & 0 & 1 \\\\\n",
        "1 & -1 & 0\n",
        "\\end{pmatrix}\n",
        "$"
      ]
    },
    {
      "cell_type": "markdown",
      "source": [
        "## Answer to Problem 3\n",
        "\n",
        "The code below will be used to verify the statements.\n",
        "\n",
        "Matrix A will have an inverse because it has a non-zero determinant and is linearly independent (full rank).\n",
        "\n",
        "Matrix B will not have an inverse because it has a determinant of 0 and doesn't have full rank."
      ],
      "metadata": {
        "id": "Gcb8xzl89H2-"
      }
    },
    {
      "cell_type": "code",
      "source": [
        "#3a - Use python to find the inverse\n",
        "# Define the matrix. A is a square matrix, so if it is has a non-zero determinant, and full rank, it has an inverse.\n",
        "A = np.matrix([\n",
        "    [0,1,1],\n",
        "    [1,0,1],\n",
        "    [1,1,0]\n",
        "])\n",
        "\n",
        "# Use det() and and matrix_rank() functions to find determinant and rank of the matrix\n",
        "print(\"Determinant of Matrix A is:\",np.linalg.det(A)) # Non-zero\n",
        "print(\"Rank of Matrix A is:\",matrix_rank(A)) # Full rank"
      ],
      "metadata": {
        "colab": {
          "base_uri": "https://localhost:8080/"
        },
        "id": "C9gmotFwoNvB",
        "outputId": "c417b64c-2ca2-4bd2-8dad-45a1695bbdc2"
      },
      "execution_count": null,
      "outputs": [
        {
          "output_type": "stream",
          "name": "stdout",
          "text": [
            "Determinant of Matrix A is: 2.0\n",
            "Rank of Matrix A is: 3\n"
          ]
        }
      ]
    },
    {
      "cell_type": "code",
      "source": [
        "# 3a - Determinant is not 0, so the matrix has an inverse\n",
        "from numpy.linalg import inv\n",
        "inv(A)"
      ],
      "metadata": {
        "colab": {
          "base_uri": "https://localhost:8080/"
        },
        "id": "S6cZMui7qAjg",
        "outputId": "6fa0586d-2969-4c9c-988b-3a77156356ca"
      },
      "execution_count": null,
      "outputs": [
        {
          "output_type": "execute_result",
          "data": {
            "text/plain": [
              "matrix([[-0.5,  0.5,  0.5],\n",
              "        [ 0.5, -0.5,  0.5],\n",
              "        [ 0.5,  0.5, -0.5]])"
            ]
          },
          "metadata": {},
          "execution_count": 22
        }
      ]
    },
    {
      "cell_type": "code",
      "source": [
        "#3b - Use python to find the inverse\n",
        "# Define the matrix. B is a square matrix, so if it is has a non-zero determinant, and full rank, it has an inverse.\n",
        "B = np.matrix([\n",
        "    [0,1,1],\n",
        "    [1,0,1],\n",
        "    [1,-1,0]\n",
        "])\n",
        "print(\"Determinant of Matrix A is:\",np.linalg.det(B)) # 0 is the determinant\n",
        "print(\"Rank of Matrix A is:\",matrix_rank(B)) # Not full rank"
      ],
      "metadata": {
        "colab": {
          "base_uri": "https://localhost:8080/"
        },
        "id": "okbDsAg_osQt",
        "outputId": "db2e3c6d-1f92-45b3-be94-18da56556b2c"
      },
      "execution_count": null,
      "outputs": [
        {
          "output_type": "stream",
          "name": "stdout",
          "text": [
            "Determinant of Matrix A is: 0.0\n",
            "Rank of Matrix A is: 2\n"
          ]
        }
      ]
    },
    {
      "cell_type": "markdown",
      "metadata": {
        "id": "xLUI49Yfe3Kx"
      },
      "source": [
        "### 4. Commutativity\n",
        "---\n",
        "\n",
        "In three dimensions, there are three different kinds of **rotations**, one for rotation about each axis. These are defined as follows:\n",
        "\n",
        "$$\n",
        "R_x(\\theta) =\n",
        "\\begin{pmatrix}\n",
        "1 & 0 & 0 \\\\\n",
        "0 & \\cos \\theta  & \\sin \\theta  \\\\\n",
        "0 & -\\sin \\theta & \\cos \\theta\n",
        "\\end{pmatrix}.\n",
        "$$\n",
        "\n",
        "$$\n",
        "R_y(\\theta) =\n",
        "\\begin{pmatrix}\n",
        "\\cos \\theta  & 0 & \\sin \\theta \\\\\n",
        "0 & 1 & 0 \\\\\n",
        "-\\sin \\theta & 0 & \\cos \\theta\n",
        "\\end{pmatrix}.\n",
        "$$\n",
        "\n",
        "$$\n",
        "R_z(\\theta) =\n",
        "\\begin{pmatrix}\n",
        "\\cos \\theta  & \\sin \\theta & 0 \\\\\n",
        "-\\sin \\theta & \\cos \\theta & 0 \\\\\n",
        "0 & 0 & 1\n",
        "\\end{pmatrix}.\n",
        "$$\n",
        "\n",
        "Are these matrices pairwise commutative in general? That is: is it the case that\n",
        "\n",
        "$$\n",
        "R_x(\\theta_1)R_y(\\theta_2) = R_y(\\theta_2)R_x(\\theta_1)\n",
        "$$\n",
        "\n",
        "and similarly for $x,z$ and $y,z$? Explain your answers."
      ]
    },
    {
      "cell_type": "markdown",
      "source": [
        "## Answer to Problem 4\n",
        "\n",
        "Assume $\\theta_1=\\theta_2$\n",
        "\n",
        "None of these matrices are commutative with each other, all products of matrices are below and it is the case that:\n",
        "$R_x(\\theta)R_y(\\theta) \\neq R_y(\\theta)R_x(\\theta)$, \\\\\n",
        "$R_x(\\theta)R_z(\\theta) \\neq R_z(\\theta)R_x(\\theta)$, and \\\\\n",
        "$R_z(\\theta)R_y(\\theta) \\neq R_y(\\theta)R_z(\\theta)$\n",
        "\n",
        "\\\\\n",
        "The matrix product of $R_x$ with $R_y$ and $R_y$ with $R_z$ in any order have the same elements in the diagonal. They also have similar elements in their upper and lower triangles except in a different order. Thus they all have the same 9 elements, including the same ones in the diagonal, but they are not commutative.\n",
        "\n",
        "The same cannot be said for the matrix product of $R_x$ and $R_z$ in both orders. They only have the same elements diagonally.\n",
        "\n",
        "* I would like to note that I'm not sure what the difference between commutatuve and pairwise commutative is. I did research but couldnt find anything on pairwise commutative matrices. If pairwise means same elements regardless of location on matrix, then it is only true for $R_x$ with $R_y$ and $R_y$ with $R_z$ in any order.\n",
        "\n",
        "\\\\\n",
        "$$\n",
        "R_x(\\theta)R_y(\\theta) =\n",
        "\\begin{pmatrix}\n",
        "\\cos \\theta & 0 & \\sin \\theta \\\\\n",
        "- \\sin^2 \\theta & \\cos \\theta  & \\sin \\theta  \\cos \\theta \\\\\n",
        "-\\sin \\theta \\cos \\theta & -\\sin \\theta & \\cos^2 \\theta\n",
        "\\end{pmatrix}\n",
        "$$\n",
        "\n",
        "\\\\\n",
        "$$\n",
        "R_y(\\theta)R_x(\\theta) =\n",
        "\\begin{pmatrix}\n",
        "\\cos \\theta & - \\sin^2 \\theta & \\sin \\theta \\cos \\theta \\\\\n",
        "0 & \\cos \\theta  & \\sin \\theta  \\\\\n",
        "- \\sin \\theta  & -\\sin \\theta \\cos \\theta & \\cos^2 \\theta\n",
        "\\end{pmatrix}\n",
        "$$\n",
        "\n",
        "\\\\\n",
        "$$\n",
        "R_x(\\theta)R_z(\\theta) =\n",
        "\\begin{pmatrix}\n",
        "\\cos \\theta &  \\sin \\theta  &  0 \\\\\n",
        "- \\sin \\theta \\cos \\theta & \\cos^2 \\theta  & \\sin \\theta  \\\\\n",
        "\\sin^2 \\theta  & -\\sin \\theta \\cos \\theta & \\cos \\theta\n",
        "\\end{pmatrix}\n",
        "$$\n",
        "\n",
        "\\\\\n",
        "$$\n",
        "R_z(\\theta)R_x(\\theta) =\n",
        "\\begin{pmatrix}\n",
        "\\cos \\theta &  \\sin \\theta \\cos \\theta &  \\sin^2 \\theta \\\\\n",
        "- \\sin \\theta & \\cos^2 \\theta  & \\sin \\theta \\cos \\theta \\\\\n",
        "0  & -\\sin \\theta  & \\cos \\theta\n",
        "\\end{pmatrix}\n",
        "$$\n",
        "\n",
        "\\\\\n",
        "$$\n",
        "R_y(\\theta)R_z(\\theta) =\n",
        "\\begin{pmatrix}\n",
        "\\cos^2 \\theta &  \\sin \\theta \\cos \\theta &  \\sin \\theta \\\\\n",
        "- \\sin \\theta & \\cos \\theta  & 0 \\\\\n",
        "- \\sin \\theta \\cos \\theta  & -\\sin^2 \\theta  & \\cos \\theta\n",
        "\\end{pmatrix}\n",
        "$$\n",
        "\n",
        "\\\\\n",
        "$$\n",
        "R_z(\\theta)R_y(\\theta) =\n",
        "\\begin{pmatrix}\n",
        "\\cos^2 \\theta &  \\sin \\theta & \\sin \\theta \\cos \\theta \\\\\n",
        "- \\sin \\theta \\cos \\theta & \\cos \\theta  & - \\sin^2 \\theta \\\\\n",
        "- \\sin \\theta  & 0  & \\cos \\theta\n",
        "\\end{pmatrix}\n",
        "$$"
      ],
      "metadata": {
        "id": "03i1SWESR--2"
      }
    },
    {
      "cell_type": "markdown",
      "metadata": {
        "id": "AeIZnCNye3Kx"
      },
      "source": [
        "### 5. Orthogonal Matrices\n",
        "---\n",
        "\n",
        "The set of **reflection matrices** is defined by\n",
        "\n",
        "$$\n",
        "S(\\theta) =\n",
        "\\begin{pmatrix}\n",
        "\\cos 2\\theta & \\sin 2 \\theta \\\\\n",
        "\\sin 2\\theta & -\\cos 2 \\theta\n",
        "\\end{pmatrix}.\n",
        "$$\n",
        "\n",
        "a) Show how $S(\\frac{\\pi}{4})$ transforms the vector $(1\\;-1)^T$.\n",
        "\n",
        "b) Show that $S(\\theta)$ does not change any vectors that happen to lie on the axis of reflection."
      ]
    },
    {
      "cell_type": "markdown",
      "source": [
        "## Answers to Problem 5\n",
        "\n",
        "a)\n",
        "$\n",
        "S(\\frac{\\pi}{4}) =\n",
        "\\begin{pmatrix}\n",
        "0 & 1 \\\\\n",
        "1 & 0\n",
        "\\end{pmatrix}\n",
        "$\n",
        "\n",
        "\\\\\n",
        "$\n",
        "\\begin{pmatrix}\n",
        "0 & 1 \\\\\n",
        "1 & 0\n",
        "\\end{pmatrix}\n",
        "\\begin{pmatrix}\n",
        "1 \\\\\n",
        "-1\n",
        "\\end{pmatrix}\n",
        "=b\n",
        "$\n",
        "\n",
        "Solution below in python code.\n",
        "\n",
        "b)\n",
        "\n",
        "Step 1: Find Eigenvalues\n",
        "$$\n",
        "S(\\theta) - \\lambda I =\n",
        "\\begin{pmatrix}\n",
        "\\cos 2\\theta - \\lambda & \\sin 2 \\theta \\\\\n",
        "\\sin 2\\theta & -\\cos 2 \\theta - \\lambda\n",
        "\\end{pmatrix}.\n",
        "$$\n",
        "$$\n",
        "|S(\\theta) - \\lambda I |= (\\cos 2\\theta - \\lambda)(- \\cos 2\\theta - \\lambda) - \\sin^2(2 \\theta)\n",
        "$$\n",
        "$$\n",
        "= -(\\cos^2 2\\theta + \\sin^22 \\theta)- \\lambda \\cos 2\\theta + \\lambda \\cos 2\\theta + \\lambda^2\n",
        "$$\n",
        "$$\n",
        "= -1+ \\lambda^2 = \\lambda \\pm 1\n",
        "$$\n",
        "\n",
        "Step 2a: Find Eigenvectors $ \\lambda = 1$\n",
        "$$\n",
        "(S(\\theta) -  I) \\cdot v =\n",
        "\\begin{pmatrix}\n",
        "\\cos 2\\theta - 1 & \\sin 2 \\theta \\\\\n",
        "\\sin 2\\theta & -\\cos 2 \\theta - 1\n",
        "\\end{pmatrix} \\times\n",
        "\\begin{pmatrix}\n",
        "\\ v_1  \\\\\n",
        "\\ v_2\n",
        "\\end{pmatrix} =\n",
        "\\begin{pmatrix}\n",
        " 0 \\\\\n",
        " 0\n",
        "\\end{pmatrix}\n",
        "$$\n",
        "$$\n",
        "v_1 \\cos(2 \\theta)- v_1 +v_2 \\sin(2 \\theta)=0 \\\\\n",
        "v_1 \\sin(2 \\theta) -v_2 \\cos(2 \\theta) - v_2=0\n",
        "$$\n",
        "\n",
        "Step 2b: Find Eigenvectors $ \\lambda = -1$\n",
        "$$\n",
        "(S(\\theta) -  I) \\cdot v =\n",
        "\\begin{pmatrix}\n",
        "\\cos 2\\theta + 1 & \\sin 2 \\theta \\\\\n",
        "\\sin 2\\theta & -\\cos 2 \\theta + 1\n",
        "\\end{pmatrix} \\times\n",
        "\\begin{pmatrix}\n",
        "\\ v_1  \\\\\n",
        "\\ v_2\n",
        "\\end{pmatrix} =\n",
        "\\begin{pmatrix}\n",
        " 0 \\\\\n",
        " 0\n",
        "\\end{pmatrix}\n",
        "$$\n",
        "$$\n",
        "v_1 \\cos(2 \\theta)+ v_1 +v_2 \\sin(2 \\theta)=0 \\\\\n",
        "v_1 \\sin(2 \\theta) -v_2 \\cos(2 \\theta) + v_2=0\n",
        "$$\n",
        "\n",
        "Step 3: Solution\n",
        "\n",
        "Eigenvalues have a zero vector, thus the Matrix $S$ does not change vectors along the axis of reflection.\n",
        "\n",
        "$$ v_1 = v_2 = 0 \\ \\bf or \\ \\begin{pmatrix}\n",
        " 0 \\\\\n",
        "0\n",
        "\\end{pmatrix} $$"
      ],
      "metadata": {
        "id": "Q4mdyCghKk4U"
      }
    },
    {
      "cell_type": "code",
      "source": [
        "# Answer for Problem 5a\n",
        "# set theta to pi/4 and obtain new matrix S\n",
        "S = np.array([\n",
        "    [0,1],\n",
        "    [1,0]\n",
        "])\n",
        "x = np.array([[1],[-1]])\n",
        "b=np.dot(S,x)\n",
        "b"
      ],
      "metadata": {
        "colab": {
          "base_uri": "https://localhost:8080/"
        },
        "id": "FqrruWmHGfAv",
        "outputId": "36d19c85-3d68-4100-fb5f-dca226a31142"
      },
      "execution_count": null,
      "outputs": [
        {
          "output_type": "execute_result",
          "data": {
            "text/plain": [
              "array([[-1],\n",
              "       [ 1]])"
            ]
          },
          "metadata": {},
          "execution_count": 129
        }
      ]
    },
    {
      "cell_type": "markdown",
      "metadata": {
        "ExecuteTime": {
          "end_time": "2019-10-23T18:01:28.779050Z",
          "start_time": "2019-10-23T18:01:28.773729Z"
        },
        "id": "HO4s8VmBe3Ky"
      },
      "source": [
        "### 6. Similarity\n",
        "---\n",
        "\n",
        "Show that the following two matrices are similar.\n",
        "\n",
        "$\n",
        "A = \\begin{pmatrix}\n",
        "2 & 4 & 6 \\\\\n",
        "0 & 2 & 0 \\\\\n",
        "1 & 1 & 0\n",
        "\\end{pmatrix}\n",
        "$\n",
        "\n",
        "$\n",
        "B = \\begin{pmatrix}\n",
        "1 & -1 & 2 \\\\\n",
        "4 & 2 & 1 \\\\\n",
        "5 & 1 & 1\n",
        "\\end{pmatrix}\n",
        "$"
      ]
    },
    {
      "cell_type": "markdown",
      "source": [
        "## Answer to Problem 6\n",
        "\n",
        "Matrices are similar if they have the same properties:\n",
        "\n",
        "\n",
        "*   Determinant: $|B| = |Q A Q^{-1}| = |Q||Q^{-1}||A| = |A|$.\n",
        "*   Eigenvalues\n",
        "*   Characteristic Polynomial: $|\\lambda I - B| = |\\lambda I - A|$"
      ],
      "metadata": {
        "id": "OhPR6GdSqrns"
      }
    },
    {
      "cell_type": "code",
      "source": [
        "# Code for Problem 6, Determinants and Eigenvalues\n",
        "# Proving similarity using Python\n",
        "\n",
        "# Define both matrices\n",
        "A = sm.Matrix([\n",
        "    [2,4,6],\n",
        "    [0,2,0],\n",
        "    [1,1,0]\n",
        "])\n",
        "B = sm.Matrix([\n",
        "    [1,-1,2],\n",
        "    [4,2,1],\n",
        "    [5,1,1]\n",
        "])\n",
        "\n",
        "# Evaluate determinants\n",
        "if abs(A.det()) == abs(B.det()):\n",
        "  print(\"Matrix A and B have same determinant: \", abs(A.det()))\n",
        "else:\n",
        "  print(\"Matrix A and B don't have same determinant\")\n",
        "\n",
        "# Evaluate eigenvalues\n",
        "if A.eigenvals() == B.eigenvals():\n",
        "  print(\"Matrix A and B have same eigenvalues: \")\n",
        "else:\n",
        "  print(\"Matrix A and B don't have same eigenvalues\")\n",
        "\n",
        "for x in A.eigenvals().keys():\n",
        "  print(x)"
      ],
      "metadata": {
        "colab": {
          "base_uri": "https://localhost:8080/"
        },
        "id": "RKuHIbNhqrNI",
        "outputId": "1356b5d9-4f26-4ed9-faef-29d87c69a067"
      },
      "execution_count": null,
      "outputs": [
        {
          "output_type": "stream",
          "name": "stdout",
          "text": [
            "Matrix A and B have same determinant:  12\n",
            "Matrix A and B have same eigenvalues: \n",
            "2\n",
            "1 - sqrt(7)\n",
            "1 + sqrt(7)\n"
          ]
        }
      ]
    },
    {
      "cell_type": "code",
      "source": [
        "# Additional code for Problem 6, Characteristic Polynomial\n",
        "s = sm.symbols(\"s\")\n",
        "A = sm.Matrix([\n",
        "    [2,4,6],\n",
        "    [0,2,0],\n",
        "    [1,1,0]\n",
        "])\n",
        "B = sm.Matrix([\n",
        "    [1,-1,2],\n",
        "    [4,2,1],\n",
        "    [5,1,1]\n",
        "])\n",
        "\n",
        "cpA = (s*sm.eye(3)-A).det()\n",
        "cpB = (s*sm.eye(3)-B).det()\n",
        "\n",
        "if cpA == cpB:\n",
        "  print(\"Matrix A and B have the same characteristic Polynomial:\")\n",
        "else:\n",
        "  print(\"Matrix A and B do not have the same characteristic Polynomial\")\n",
        "\n",
        "cpA"
      ],
      "metadata": {
        "colab": {
          "base_uri": "https://localhost:8080/",
          "height": 56
        },
        "id": "Mtgs7AI1im2X",
        "outputId": "fc90c047-d99c-489a-e45b-8b1879816652"
      },
      "execution_count": null,
      "outputs": [
        {
          "output_type": "stream",
          "name": "stdout",
          "text": [
            "Matrix A and B have the same characteristic Polynomial:\n"
          ]
        },
        {
          "output_type": "execute_result",
          "data": {
            "text/plain": [
              " 3      2           \n",
              "s  - 4⋅s  - 2⋅s + 12"
            ],
            "text/latex": "$\\displaystyle s^{3} - 4 s^{2} - 2 s + 12$"
          },
          "metadata": {},
          "execution_count": 122
        }
      ]
    },
    {
      "cell_type": "markdown",
      "metadata": {
        "id": "SgsiNyule3Kz"
      },
      "source": [
        "### 7. Diagonalization\n",
        "---\n",
        "\n",
        "Diagonalize the matrices in problem 6 (you can use `sympy`), and show they have the same diagonal form."
      ]
    },
    {
      "cell_type": "markdown",
      "source": [
        "## Answer for Problem 7\n",
        "For matrix $A = \\mathbb{R}^{n \\times n}$, $A$ will have distinct eigenvalues and eigenvectors: $\\lambda_1$ and $\\lambda_2$, $v_1$ and $v_2$. Then:\n",
        "\n",
        "$$\n",
        "A v_1 = \\lambda_1 v_1 \\\\\n",
        "A v_2 = \\lambda_2 v_2\n",
        "$$\n",
        "\n",
        "\\\\\n",
        "If we define:\n",
        "$$\n",
        "P = ( v_1 \\; v_2 )\n",
        "$$\n",
        "\n",
        "and\n",
        "\n",
        "$$\n",
        "D = \\begin{pmatrix}\\lambda_1 & 0\\\\ 0 & \\lambda_2\\end{pmatrix}\n",
        "$$\n",
        "\n",
        "then we get\n",
        "\n",
        "$$\n",
        "A = PDP^{-1}\n",
        "$$\n",
        "\n",
        "\\\\\n",
        "I will use the diagonalize() function from sympy which returns a tuple of $P$ and $D$ as they relate to matrices $A$ and $B$."
      ],
      "metadata": {
        "id": "3wUN1Jf_4p5Q"
      }
    },
    {
      "cell_type": "code",
      "source": [
        "# Code for Problem 7\n",
        "# Proving same diagonal form using Python\n",
        "\n",
        "# Define both matrices again just to be safe\n",
        "A = sm.Matrix([\n",
        "    [2,4,6],\n",
        "    [0,2,0],\n",
        "    [1,1,0]\n",
        "])\n",
        "B = sm.Matrix([\n",
        "    [1,-1,2],\n",
        "    [4,2,1],\n",
        "    [5,1,1]\n",
        "])\n",
        "\n",
        "# Use diagonalize() function which returns P and D as defined above\n",
        "AD = A.diagonalize()\n",
        "BD = B.diagonalize()\n",
        "if AD[1] == BD[1]: # Remove the first element of the tuples since we do not need P\n",
        "  print(\"Matrices A and B have same diagonal\")\n",
        "else:\n",
        "  print(\"Matrices do not have same diagonal\")\n",
        "\n",
        "print(\"Diagonal of A\")\n",
        "AD[1] # Print only diagonal for A"
      ],
      "metadata": {
        "colab": {
          "base_uri": "https://localhost:8080/",
          "height": 115
        },
        "id": "iHSuzEiA32_5",
        "outputId": "64b290e7-7883-4c6d-849f-b8baf4d1b4a1"
      },
      "execution_count": null,
      "outputs": [
        {
          "output_type": "stream",
          "name": "stdout",
          "text": [
            "Matrices A and B have same diagonal\n",
            "Diagonal of A\n"
          ]
        },
        {
          "output_type": "execute_result",
          "data": {
            "text/plain": [
              "⎡2    0       0   ⎤\n",
              "⎢                 ⎥\n",
              "⎢0  1 - √7    0   ⎥\n",
              "⎢                 ⎥\n",
              "⎣0    0     1 + √7⎦"
            ],
            "text/latex": "$\\displaystyle \\left[\\begin{matrix}2 & 0 & 0\\\\0 & 1 - \\sqrt{7} & 0\\\\0 & 0 & 1 + \\sqrt{7}\\end{matrix}\\right]$"
          },
          "metadata": {},
          "execution_count": 128
        }
      ]
    },
    {
      "cell_type": "code",
      "source": [
        "print(\"Diagonal of B\")\n",
        "BD[1] # We show that the diagonal for B is the same as A"
      ],
      "metadata": {
        "colab": {
          "base_uri": "https://localhost:8080/",
          "height": 98
        },
        "id": "uKmdWqxt4Mz1",
        "outputId": "d1161a90-2a91-4d3c-e3a6-8f096de67d1f"
      },
      "execution_count": null,
      "outputs": [
        {
          "output_type": "stream",
          "name": "stdout",
          "text": [
            "Diagonal of B\n"
          ]
        },
        {
          "output_type": "execute_result",
          "data": {
            "text/plain": [
              "⎡2    0       0   ⎤\n",
              "⎢                 ⎥\n",
              "⎢0  1 - √7    0   ⎥\n",
              "⎢                 ⎥\n",
              "⎣0    0     1 + √7⎦"
            ],
            "text/latex": "$\\displaystyle \\left[\\begin{matrix}2 & 0 & 0\\\\0 & 1 - \\sqrt{7} & 0\\\\0 & 0 & 1 + \\sqrt{7}\\end{matrix}\\right]$"
          },
          "metadata": {},
          "execution_count": 126
        }
      ]
    },
    {
      "cell_type": "markdown",
      "metadata": {
        "ExecuteTime": {
          "end_time": "2019-10-23T18:34:47.222384Z",
          "start_time": "2019-10-23T18:34:47.217657Z"
        },
        "id": "i1TQoT7We3K0"
      },
      "source": [
        "### 8. Cayley Hamilton\n",
        "---\n",
        "\n",
        "a) Use the **Cayley-Hamilton Theorem** to come up with an expression for $A^n$ in terms of $n$ when\n",
        "\n",
        "$$\n",
        "A = \\begin{pmatrix}\n",
        "-\\frac{1}{2} & 1  \\\\\n",
        "0 & \\frac{1}{4}\n",
        "\\end{pmatrix} .\n",
        "$$\n",
        "\n",
        "b) Define $x_{k+1} = A x_k$ and argue that no matter what value $x_0$ is, $x_k$ converges to $(0 \\; 0)^T$.\n",
        "\n",
        "c) Choose $x_0 = (-2,3)^T$ and plot $x_k$ for $k = 0$ to $10$. Plot the two components of of $x_k$ as two separate trajectories overlaid on the same plot."
      ]
    },
    {
      "cell_type": "markdown",
      "source": [
        "## Answers to Problem 8\n",
        "\n",
        "a) $A^n = -0.25A^{n-1}+0.125A^{n-2}$ for $n \\geq 2$\n",
        "\n",
        "b) Since $ \\lambda^2+0.25 \\lambda-0.125 = 0 $, we have $\\lambda = 0.25, -0.5$\n",
        "\n",
        "\n",
        "$x_{k+1}=Ax_k=A^2x_{k-1}...=A^{k+1}x_0$. As $k \\rightarrow \\infty $, the $\\lim_{k \\rightarrow \\infty} A^kx_0=0$\n"
      ],
      "metadata": {
        "id": "7p8nNbRhWpsT"
      }
    },
    {
      "cell_type": "code",
      "source": [
        "# Characteristic Polynomial for Problem 8\n",
        "s = sm.symbols(\"s\")\n",
        "A = sm.Matrix([\n",
        "    [-.5,1],\n",
        "    [0,1/4]\n",
        "])\n",
        "cp = (s*sm.eye(2)-A).det()\n",
        "cp"
      ],
      "metadata": {
        "colab": {
          "base_uri": "https://localhost:8080/",
          "height": 38
        },
        "id": "KibnOkwUYkbf",
        "outputId": "a65e026f-bbdc-4605-d794-724d83416843"
      },
      "execution_count": null,
      "outputs": [
        {
          "output_type": "execute_result",
          "data": {
            "text/plain": [
              " 2                 \n",
              "s  + 0.25⋅s - 0.125"
            ],
            "text/latex": "$\\displaystyle s^{2} + 0.25 s - 0.125$"
          },
          "metadata": {},
          "execution_count": 28
        }
      ]
    },
    {
      "cell_type": "code",
      "source": [
        "# Code for Problem 8c\n",
        "\n",
        "# Create lists which will contain the calculated values, insert initial values.\n",
        "List1 = [-2]\n",
        "List2 = [3]\n",
        "\n",
        "# Set initial conditions\n",
        "x_1 = -2\n",
        "x_2 = 3\n",
        "\n",
        "# Use for loop to calculate both components\n",
        "for x in range(1,11):\n",
        "  x1=(-.5)*x_1+(x_2)\n",
        "  x2= .25*x_2\n",
        "  List1.append(x1)\n",
        "  List2.append(x2)\n",
        "  x_1=x1\n",
        "  x_2=x2\n",
        "\n",
        "# Plot characteristics\n",
        "plt.title(\"Cayley Hamilton Plot\") # Add title\n",
        "plt.xlabel(\"Values of x\") # Add axis labels\n",
        "plt.ylabel(\"Values of y\")\n",
        "plt.plot(List1, \"-r\", label=\"x1\") # Plot f o g in red\n",
        "plt.plot(List2, \"-g\", label=\"x2\") # Plot g o f in green\n",
        "plt.legend(loc=\"best\") # Put the legend in the 'best' spot\n",
        "plt.axhline(y = 0,color = 'blue', linestyle = '--', alpha = 0.5)\n",
        "plt.show()"
      ],
      "metadata": {
        "colab": {
          "base_uri": "https://localhost:8080/",
          "height": 472
        },
        "id": "AcBrhFQqq_K7",
        "outputId": "7bfe6e5c-eb60-463d-9179-3aec3a8ba83b"
      },
      "execution_count": null,
      "outputs": [
        {
          "output_type": "display_data",
          "data": {
            "text/plain": [
              "<Figure size 640x480 with 1 Axes>"
            ],
            "image/png": "[encoded data removed]"
          },
          "metadata": {}
        }
      ]
    },
    {
      "cell_type": "markdown",
      "metadata": {
        "ExecuteTime": {
          "end_time": "2019-10-23T18:47:28.833529Z",
          "start_time": "2019-10-23T18:47:28.828866Z"
        },
        "id": "02TUwUg5e3K0"
      },
      "source": [
        "### 9. Matrix Exponential Properties\n",
        "---\n",
        "\n",
        "Recall that for matrices $A$ and $B$  it is not necessarily the case that $AB = BA$ (i.e. that $A$ and $B$ commute). Show that\n",
        "\n",
        "a) If $AB=BA$ then $e^Ae^B = e^Be^A$ using the definition of the matrix exponential as a series.\n",
        "\n",
        "b) Find an example in 2D where $A$ and $B$ do not commute and show that $e^Ae^B \\neq e^Be^A$."
      ]
    },
    {
      "cell_type": "markdown",
      "source": [
        "## Answer to Problem 9\n",
        "\n",
        "a) Assuming A and B are commutative and diagonizable, the relation $e^Ae^B$ can be expressed as:\n",
        "\n",
        "$$\n",
        "e^Ae^B=(\\sum_{i=0}^\\infty \\frac{1}{i!} \\ A^i)(\\sum_{k=0}^\\infty \\frac{1}{k!} \\ B^k)\n",
        "$$\n",
        "\n",
        "and the order will not matter since you are multiplying two series. If A and B are commutable, it won't matter if they are matrices or just numbers, the above will be true regardless of the order.\n",
        "\n",
        "\\\\\n",
        "b) 2D example in code below. I created 2 matrices and tested if they were not commutable. Once I proved they were not, I did the same thing for their exponential matrices to verify those don't commute either."
      ],
      "metadata": {
        "id": "AxENrVXAHbrZ"
      }
    },
    {
      "cell_type": "markdown",
      "source": [
        "## Code to prove problem 9a"
      ],
      "metadata": {
        "id": "4b512Kp5UY4f"
      }
    },
    {
      "cell_type": "code",
      "source": [
        "# Python proof that if matrices A and B are commutative, so is the product of their exponential matrix\n",
        "from scipy.linalg import expm\n",
        "A = np.array([\n",
        "    [2,2],\n",
        "    [1,1]\n",
        "])\n",
        "B = np.array([\n",
        "    [2,0],\n",
        "    [0,2]\n",
        "])\n",
        "\n",
        "# Find exponential matrix\n",
        "EA=expm(A)\n",
        "EB=expm(B)\n",
        "\n",
        "# Proof the matrices are commutative\n",
        "print(\"A x B=\")\n",
        "print(A@B)\n",
        "print(\"B x A=\")\n",
        "print(B@A)\n"
      ],
      "metadata": {
        "colab": {
          "base_uri": "https://localhost:8080/"
        },
        "id": "Mb_uZhWDQnyW",
        "outputId": "cc59b6ef-5b64-4595-a250-f7094e14fa83"
      },
      "execution_count": null,
      "outputs": [
        {
          "output_type": "stream",
          "name": "stdout",
          "text": [
            "A x B=\n",
            "[[4 4]\n",
            " [2 2]]\n",
            "B x A=\n",
            "[[4 4]\n",
            " [2 2]]\n"
          ]
        }
      ]
    },
    {
      "cell_type": "code",
      "source": [
        "# Proof the exponential matrices are commutative\n",
        "print(\"EA x EB=\")\n",
        "print(EA@EB)\n",
        "print(\"EB x EA=\")\n",
        "print(EB@EA)"
      ],
      "metadata": {
        "colab": {
          "base_uri": "https://localhost:8080/"
        },
        "id": "oXycxHyURAfQ",
        "outputId": "07f7bf70-ed3c-45d8-a50c-9b0affaeba05"
      },
      "execution_count": null,
      "outputs": [
        {
          "output_type": "stream",
          "name": "stdout",
          "text": [
            "EA x EB=\n",
            "[[101.40512477  94.01606867]\n",
            " [ 47.00803433  54.39709043]]\n",
            "EB x EA=\n",
            "[[101.40512477  94.01606867]\n",
            " [ 47.00803433  54.39709043]]\n"
          ]
        }
      ]
    },
    {
      "cell_type": "markdown",
      "source": [
        "## Code to prove Problem 9b"
      ],
      "metadata": {
        "id": "5tSnR0C5UeTg"
      }
    },
    {
      "cell_type": "code",
      "source": [
        "# Python proof that if matrices A and B are not commutative, neither will the product of their exponential matrix be\n",
        "from scipy.linalg import expm\n",
        "A2 = np.array([\n",
        "    [2,2],\n",
        "    [1,1]\n",
        "])\n",
        "B2 = np.array([\n",
        "    [2,2],\n",
        "    [2,2]\n",
        "])\n",
        "EA2=expm(A2)\n",
        "EB2=expm(B2)\n",
        "\n",
        "# Proof the matrices are not commutative\n",
        "print(\"A x B=\")\n",
        "print(A2@B2)\n",
        "print(\"B x A=\")\n",
        "print(B2@A2)"
      ],
      "metadata": {
        "colab": {
          "base_uri": "https://localhost:8080/"
        },
        "id": "QvIAIMFCKQ0v",
        "outputId": "0bd7edfc-021f-4e3f-d4fe-cc73d790aae1"
      },
      "execution_count": null,
      "outputs": [
        {
          "output_type": "stream",
          "name": "stdout",
          "text": [
            "A x B=\n",
            "[[8 8]\n",
            " [4 4]]\n",
            "B x A=\n",
            "[[6 6]\n",
            " [6 6]]\n"
          ]
        }
      ]
    },
    {
      "cell_type": "code",
      "source": [
        "# Proof the exponential matrices are not commutative if AB=/=BA\n",
        "print(\"EA x EB=\")\n",
        "print(EA2@EB2)\n",
        "print(\"EB x EA=\")\n",
        "print(EB2@EA2)"
      ],
      "metadata": {
        "colab": {
          "base_uri": "https://localhost:8080/"
        },
        "id": "UJGPjUcwObFy",
        "outputId": "5c62b112-210f-49e9-b8e7-7abaadfe3b30"
      },
      "execution_count": null,
      "outputs": [
        {
          "output_type": "stream",
          "name": "stdout",
          "text": [
            "EA x EB=\n",
            "[[722.48908061 721.48908061]\n",
            " [374.14407782 375.14407782]]\n",
            "EB x EA=\n",
            "[[551.99750203 550.99750203]\n",
            " [544.63565639 545.63565639]]\n"
          ]
        }
      ]
    },
    {
      "cell_type": "markdown",
      "metadata": {
        "id": "l3QQGinGe3K1"
      },
      "source": [
        "### 10. Senators Revisited\n",
        "---\n",
        "\n",
        "Repeat the clustering of senators by voting habit for the years 1999, 1979 and 1959. Plot them together with the 2019 plot in a grid of plots. Which years seem the most divided?\n",
        "\n",
        "Note: you will need to get the data at [https://voteview.com/data](https://voteview.com/data). Choose \"Member's Votes\", \"Senate Only\", the desired year, and CSV file.\n",
        "\n",
        "I had to edit the CSV file (in a text editor or ExCEL) to remove the heading in the first row before loading the file."
      ]
    },
    {
      "cell_type": "markdown",
      "source": [
        "## Answer to Problem 10\n",
        "\n",
        "For the 1959 and 1979 Senate votes, there seems to be an almost even spread of votes with no small area of the plot being dominated by a large chunk of votes. However, the 1999 votes showed a heavy divide with Senators taking more party-centric votes with only a few in the middle. 2019, is even more divided although one party does seem to be more spread out than the other, but the middle ground once again very sparse just like in 1999.\n",
        "\n",
        "Code and plots below."
      ],
      "metadata": {
        "id": "WwBokiW6oaSC"
      }
    },
    {
      "cell_type": "code",
      "source": [
        "# Code for Problem 10\n",
        "\n",
        "# Load data from each CSV file\n",
        "data086 = np.genfromtxt('/S086_votes.csv', delimiter=',', dtype=np.int8)\n",
        "data096 = np.genfromtxt('/S096_votes.csv', delimiter=',', dtype=np.int8)\n",
        "data106 = np.genfromtxt('/S106_votes.csv', delimiter=',', dtype=np.int8)\n",
        "data116 = np.genfromtxt('/S116_votes.csv', delimiter=',', dtype=np.int8)\n",
        "\n",
        "# We need to transform the data into what we want\n",
        "# We want the issues, members, and vote outcome for the plot, so we identify which columns are what\n",
        "issues086 = data086[:,2]\n",
        "issues096 = data096[:,2]\n",
        "issues106 = data106[:,2]\n",
        "issues116 = data116[:,2]\n",
        "\n",
        "members086 = data086[:,3]\n",
        "members096 = data096[:,3]\n",
        "members106 = data106[:,3]\n",
        "members116 = data116[:,3]\n",
        "\n",
        "member_ids_086 = np.unique(members086)\n",
        "member_ids_096 = np.unique(members096)\n",
        "member_ids_106 = np.unique(members106)\n",
        "member_ids_116 = np.unique(members116)\n",
        "\n",
        "members086 = [np.where(member_ids_086 == m)[0][0] for m in members086]\n",
        "members096 = [np.where(member_ids_096 == m)[0][0] for m in members096]\n",
        "members106 = [np.where(member_ids_106 == m)[0][0] for m in members106]\n",
        "members116 = [np.where(member_ids_116 == m)[0][0] for m in members116]\n",
        "\n",
        "votes086 = data086[:,4]\n",
        "votes096 = data096[:,4]\n",
        "votes106 = data106[:,4]\n",
        "votes116 = data116[:,4]\n",
        "\n",
        "# Cast votes data has 10 integers for each description, map a value to each 1,-1,0 for vote yes, vote no, abstain\n",
        "yn = [ 0, 1, 1, 1, -1, -1, -1, 0, 0, 0 ]\n",
        "\n",
        "# Map yn values to the data\n",
        "votes086 = np.array([yn[v] for v in votes086])\n",
        "votes096 = np.array([yn[v] for v in votes096])\n",
        "votes106 = np.array([yn[v] for v in votes106])\n",
        "votes116 = np.array([yn[v] for v in votes116])\n",
        "\n",
        "A086 = np.zeros((len(member_ids_086), max(issues086)+1))\n",
        "for member, issue, vote in zip(members086, issues086, votes086):\n",
        "    A086[int(member),int(issue)] = vote\n",
        "\n",
        "A096 = np.zeros((len(member_ids_096), max(issues096)+1))\n",
        "for member, issue, vote in zip(members096, issues096, votes096):\n",
        "    A096[int(member),int(issue)] = vote\n",
        "\n",
        "A106 = np.zeros((len(member_ids_106), max(issues106)+1))\n",
        "for member, issue, vote in zip(members106, issues106, votes106):\n",
        "    A106[int(member),int(issue)] = vote\n",
        "\n",
        "A116 = np.zeros((len(member_ids_116), max(issues116)+1))\n",
        "for member, issue, vote in zip(members116, issues116, votes116):\n",
        "    A116[int(member),int(issue)] = vote\n",
        "\n",
        "# Center the data to zero\n",
        "X086 = A086 - np.mean(A086)\n",
        "X096 = A096 - np.mean(A096)\n",
        "X106 = A106 - np.mean(A106)\n",
        "X116 = A116 - np.mean(A116)\n",
        "\n",
        "# Singular-value decomposition for all CSV files\n",
        "U086, s086, VT = np.linalg.svd(X086)\n",
        "U096, s096, VT = np.linalg.svd(X096)\n",
        "U106, s106, VT = np.linalg.svd(X106)\n",
        "U116, s116, VT = np.linalg.svd(X116)\n",
        "\n",
        "\n",
        "# Create and populate the Sigma matrix\n",
        "Sigma086 = np.zeros((A086.shape[0], A086.shape[1]))\n",
        "Sigma086[:A086.shape[0], :A086.shape[0]] = np.diag(s086)\n",
        "n_elements = 2\n",
        "Sigma086 = Sigma086[:, :n_elements]\n",
        "\n",
        "Sigma096 = np.zeros((A096.shape[0], A096.shape[1]))\n",
        "Sigma096[:A096.shape[0], :A096.shape[0]] = np.diag(s096)\n",
        "n_elements = 2\n",
        "Sigma096 = Sigma096[:, :n_elements]\n",
        "\n",
        "Sigma106 = np.zeros((A106.shape[0], A106.shape[1]))\n",
        "Sigma106[:A106.shape[0], :A106.shape[0]] = np.diag(s106)\n",
        "n_elements = 2\n",
        "Sigma106 = Sigma106[:, :n_elements]\n",
        "\n",
        "Sigma116 = np.zeros((A116.shape[0], A116.shape[1]))\n",
        "Sigma116[:A116.shape[0], :A116.shape[0]] = np.diag(s116)\n",
        "n_elements = 2\n",
        "Sigma116 = Sigma116[:, :n_elements]\n",
        "\n",
        "\n",
        "# Reconstruct\n",
        "T086 = U086.dot(Sigma086)\n",
        "T096 = U096.dot(Sigma096)\n",
        "T106 = U106.dot(Sigma106)\n",
        "T116 = U116.dot(Sigma116)\n",
        "\n",
        "# Plot characteristics\n",
        "fig,ax = plt.subplots(2,2, figsize=(10,10))\n",
        "ax[0,0].scatter(T086[:,0], T086[:,1]);ax[0,0].set_title(\"Senators clustered by\\nvoting habits in 1959-1961\");ax[0,0].set_xlabel(\"First component\"); ax[0,0].set_ylabel(\"Second component\")\n",
        "ax[0,1].scatter(T096[:,0], T096[:,1]);ax[0,1].set_title(\"Senators clustered by\\nvoting habits in 1979-1981\");ax[0,1].set_xlabel(\"First component\"); ax[0,1].set_ylabel(\"Second component\")\n",
        "ax[1,0].scatter(T106[:,0], T106[:,1]);ax[1,0].set_title(\"Senators clustered by\\nvoting habits in 1999-2001\");ax[1,0].set_xlabel(\"First component\"); ax[1,0].set_ylabel(\"Second component\")\n",
        "ax[1,1].scatter(T116[:,0], T116[:,1]);ax[1,1].set_title(\"Senators clustered by\\nvoting habits in 2019-2020\");ax[1,1].set_xlabel(\"First component\"); ax[1,1].set_ylabel(\"Second component\")\n",
        "\n",
        "fig.tight_layout()"
      ],
      "metadata": {
        "colab": {
          "base_uri": "https://localhost:8080/",
          "height": 1000
        },
        "id": "T5yTCTnsP4zZ",
        "outputId": "fea380c9-55fc-4753-8e9a-b929706ab07d"
      },
      "execution_count": null,
      "outputs": [
        {
          "output_type": "display_data",
          "data": {
            "text/plain": [
              "<Figure size 1000x1000 with 4 Axes>"
            ],
            "image/png": "[encoded data removed]"
          },
          "metadata": {}
        }
      ]
    }
  ],
  "metadata": {
    "colab": {
      "provenance": []
    },
    "kernelspec": {
      "display_name": "Python 3",
      "language": "python",
      "name": "python3"
    },
    "language_info": {
      "codemirror_mode": {
        "name": "ipython",
        "version": 3
      },
      "file_extension": ".py",
      "mimetype": "text/x-python",
      "name": "python",
      "nbconvert_exporter": "python",
      "pygments_lexer": "ipython3",
      "version": "3.8.5"
    }
  },
  "nbformat": 4,
  "nbformat_minor": 0
}